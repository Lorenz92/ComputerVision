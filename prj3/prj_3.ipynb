{
 "cells": [
  {
   "cell_type": "markdown",
   "metadata": {},
   "source": [
    "# Project 3: Off-center decoration\n",
    "\n",
    "GOAL: to develop a program to compute the off-center of a decoration in an\n",
    "aluminum cap. \n",
    "\n",
    "The color of the cap is red and the color of the decoration is grey. The off-center is defined as the distance between the center of the decoration and the center of the cap. \n",
    "\n",
    "The provided ground thruth image set contains 27 RGB images."
   ]
  },
  {
   "cell_type": "code",
   "execution_count": 11,
   "metadata": {},
   "outputs": [
    {
     "name": "stdout",
     "output_type": "stream",
     "text": [
      "The autoreload extension is already loaded. To reload it, use:\n",
      "  %reload_ext autoreload\n"
     ]
    }
   ],
   "source": [
    "# Load necessary libraries\n",
    "import os\n",
    "import cv2\n",
    "import numpy as np\n",
    "import pandas as pd\n",
    "from matplotlib import pyplot as plt\n",
    "import time\n",
    "from src.utils import *\n",
    "import src.config as config\n",
    "\n",
    "%load_ext autoreload\n",
    "%autoreload 2"
   ]
  },
  {
   "cell_type": "markdown",
   "metadata": {},
   "source": [
    "## 1. Read images"
   ]
  },
  {
   "cell_type": "markdown",
   "metadata": {},
   "source": [
    "Images are stored in a dictionary and a Dataframe, containing images classes and features, is created."
   ]
  },
  {
   "cell_type": "code",
   "execution_count": 12,
   "metadata": {},
   "outputs": [
    {
     "data": {
      "text/html": [
       "<div>\n",
       "<style scoped>\n",
       "    .dataframe tbody tr th:only-of-type {\n",
       "        vertical-align: middle;\n",
       "    }\n",
       "\n",
       "    .dataframe tbody tr th {\n",
       "        vertical-align: top;\n",
       "    }\n",
       "\n",
       "    .dataframe thead th {\n",
       "        text-align: right;\n",
       "    }\n",
       "</style>\n",
       "<table border=\"1\" class=\"dataframe\">\n",
       "  <thead>\n",
       "    <tr style=\"text-align: right;\">\n",
       "      <th></th>\n",
       "      <th>image</th>\n",
       "      <th>class</th>\n",
       "    </tr>\n",
       "  </thead>\n",
       "  <tbody>\n",
       "    <tr>\n",
       "      <th>0</th>\n",
       "      <td>d_00.bmp</td>\n",
       "      <td>defective</td>\n",
       "    </tr>\n",
       "    <tr>\n",
       "      <th>1</th>\n",
       "      <td>d_01.bmp</td>\n",
       "      <td>defective</td>\n",
       "    </tr>\n",
       "    <tr>\n",
       "      <th>2</th>\n",
       "      <td>d_02.bmp</td>\n",
       "      <td>defective</td>\n",
       "    </tr>\n",
       "    <tr>\n",
       "      <th>3</th>\n",
       "      <td>d_03.bmp</td>\n",
       "      <td>defective</td>\n",
       "    </tr>\n",
       "    <tr>\n",
       "      <th>4</th>\n",
       "      <td>d_04.bmp</td>\n",
       "      <td>defective</td>\n",
       "    </tr>\n",
       "  </tbody>\n",
       "</table>\n",
       "</div>"
      ],
      "text/plain": [
       "      image      class\n",
       "0  d_00.bmp  defective\n",
       "1  d_01.bmp  defective\n",
       "2  d_02.bmp  defective\n",
       "3  d_03.bmp  defective\n",
       "4  d_04.bmp  defective"
      ]
     },
     "execution_count": 12,
     "metadata": {},
     "output_type": "execute_result"
    }
   ],
   "source": [
    "df = create_df(config.path)\n",
    "image_collection = read_img_rgb(config.path)\n",
    "hsv_image_collection = read_img_hsv(config.path)\n",
    "df.head()"
   ]
  },
  {
   "cell_type": "markdown",
   "metadata": {},
   "source": [
    "#### Select image to work on, es. 'd_09.bmp', or uncomment the following cell and process all images in batch."
   ]
  },
  {
   "cell_type": "markdown",
   "metadata": {},
   "source": [
    "Results are stored in the \"res\" folder, while data in df DataFrame."
   ]
  },
  {
   "cell_type": "code",
   "execution_count": 13,
   "metadata": {},
   "outputs": [],
   "source": [
    "# df = process_all(df, image_collection, hsv_image_collection)\n",
    "# df.head()"
   ]
  },
  {
   "cell_type": "markdown",
   "metadata": {},
   "source": [
    "#### From here on this notebook works on a single image, for demo purposes."
   ]
  },
  {
   "cell_type": "markdown",
   "metadata": {},
   "source": [
    "Select the image under analysis through the variable \"testing_image\""
   ]
  },
  {
   "cell_type": "code",
   "execution_count": 14,
   "metadata": {},
   "outputs": [],
   "source": [
    "testing_image = 'd_01.bmp'\n",
    "img = image_collection[testing_image].copy()\n",
    "hsv = hsv_image_collection[testing_image].copy()\n",
    "\n",
    "cv2.imshow('img',img)\n",
    "# cv2.imwrite(f'{config.report_img_path}p3_example.jpg',img)\n",
    "cv2.waitKey(0)\n",
    "cv2.destroyAllWindows()"
   ]
  },
  {
   "cell_type": "markdown",
   "metadata": {},
   "source": [
    "## 2. Cap's color segmentation"
   ]
  },
  {
   "cell_type": "markdown",
   "metadata": {},
   "source": [
    "This task focuses only on the cap (dark red) and its decoration (grey).\n",
    "Colors of these two objects are predetermined and are always the same, so color segmentation gets easier by looking at predefined colors ranges.\n",
    "\n",
    "In order to find colors ranges, images are converted into HSV channel space and the distribution of a central region over the three channels is observed.\n",
    "\n",
    "By doing so, it is possible to retrieve the interval in the Hue, Saturation and Value channels to be passed to the color segmentation function. "
   ]
  },
  {
   "cell_type": "code",
   "execution_count": 15,
   "metadata": {},
   "outputs": [],
   "source": [
    "# Portion of interesting region containing sought colors in HSV space\n",
    "central_region_crop = hsv_image_collection['d_01.bmp'].copy()[150:400, 250:500]\n",
    "cv2.imshow('img',central_region_crop)\n",
    "cv2.imwrite(f'{config.report_img_path}central_region_crop.jpg',central_region_crop)\n",
    "\n",
    "cv2.waitKey(0)\n",
    "cv2.destroyAllWindows()"
   ]
  },
  {
   "cell_type": "code",
   "execution_count": 16,
   "metadata": {},
   "outputs": [
    {
     "data": {
      "image/png": "[encoded data removed]",
      "text/plain": [
       "<Figure size 2160x720 with 3 Axes>"
      ]
     },
     "metadata": {
      "needs_background": "light"
     },
     "output_type": "display_data"
    }
   ],
   "source": [
    "# HSV distribution\n",
    "plot_channel_hist(central_region_crop)"
   ]
  },
  {
   "cell_type": "markdown",
   "metadata": {},
   "source": [
    "It can be noticed that:\n",
    "- the two peaks in channel 0 (Hue - color) identify the two colors: red and grey\n",
    "- the two peaks in channel 1 (Saturation - amount of color) indentify two different sets of pixel: the peak on the right (the greater one) corresponds to the  set of high contrast dark red pixels, while the weakest one (because a smaller number of pixels of that kind has been taken into account) corresponds to the grey contours, and so it represents the decoration"
   ]
  },
  {
   "cell_type": "code",
   "execution_count": 17,
   "metadata": {},
   "outputs": [],
   "source": [
    "# Color segmentation\n",
    "red = color_segmentation(img, hsv, config.red_lower_bound, config.red_upper_bound)\n",
    "\n",
    "cv2.imshow('red',red)\n",
    "cv2.imwrite(f'{config.report_img_path}dark_red_cap.jpg',red)\n",
    "\n",
    "cv2.waitKey(0)\n",
    "cv2.destroyAllWindows()"
   ]
  },
  {
   "cell_type": "markdown",
   "metadata": {},
   "source": [
    "## 3. Cap detection"
   ]
  },
  {
   "cell_type": "markdown",
   "metadata": {},
   "source": [
    "In this section the red cap is detected through Circle Hough Transform.\n",
    "\n",
    "Although OpenCV HoughCircles already implements a smoothing step, I have experimentally noticed that another smoothing step by a $5\\times 5$ median filter improved performances.\n",
    "\n",
    "Configuratoin parameters have been determined by experiments and qualitative assesments, because no ground truth was provided."
   ]
  },
  {
   "cell_type": "markdown",
   "metadata": {},
   "source": [
    "Circles detection is accomplished throug OpenCV HoughCircles function. Its argument are:\n",
    "- image: 8-bit, single channel image;\n",
    "- method: defines the method to detect circles in images. Currently, the only implemented method is cv2.HOUGH_GRADIENT, which corresponds to the Yuen et al. paper.\n",
    "- dp: this parameter is the inverse ratio of the accumulator resolution to the image resolution (see Yuen et al. for more details). Essentially, the larger the dp gets, the smaller the accumulator array gets.\n",
    "- minDist: Minimum distance between the center (x, y) coordinates of detected circles. If the minDist is too small, multiple circles in the same neighborhood as the original may be (falsely) detected. If the minDist is too large, then some circles may not be detected at all.\n",
    "- param1: First method-specific parameter. In case of HOUGH_GRADIENT , it is the higher threshold of the two passed to the Canny edge detector (the lower one is twice smaller).\n",
    "- param2: Accumulator threshold value for the cv2.HOUGH_GRADIENT method. The smaller the threshold is, the more circles will be detected (including false circles).\n",
    "- minRadius: Minimum size of the radius (in pixels).\n",
    "- maxRadius: Maximum size of the radius (in pixels)."
   ]
  },
  {
   "cell_type": "code",
   "execution_count": 19,
   "metadata": {},
   "outputs": [],
   "source": [
    "# Smooth image before HT\n",
    "cap_smooth = smooth(red, config.cap_filter)"
   ]
  },
  {
   "cell_type": "code",
   "execution_count": 20,
   "metadata": {},
   "outputs": [
    {
     "name": "stdout",
     "output_type": "stream",
     "text": [
      "Cap center = (374,308)\n",
      "Cap radius = 210px\n"
     ]
    }
   ],
   "source": [
    "## Red cap detection\n",
    "cap = single_detect_circles(cap_smooth, config.cap_minDist, config.cap_param1, config.cap_param2, config.cap_minRadius, config.cap_maxRadius, print_result=False, show=True)\n",
    "\n",
    "cap_a,cap_b,cap_r = cap\n",
    "print(f'Cap center = ({cap_a},{cap_b})')\n",
    "print(f'Cap radius = {cap_r}px')"
   ]
  },
  {
   "cell_type": "markdown",
   "metadata": {},
   "source": [
    "## 4. Decoration's color segmentation"
   ]
  },
  {
   "cell_type": "markdown",
   "metadata": {},
   "source": [
    "As stated in section 2, color distribution analysis highlighted two different colors, one for the cap and the other for the decoration. \n",
    "\n",
    "In this section decoration color segmentation is employed, after masking the original image with the cap circumference found before."
   ]
  },
  {
   "cell_type": "code",
   "execution_count": 21,
   "metadata": {},
   "outputs": [],
   "source": [
    "# Let's focus only on the region contained in the detected cap circle\n",
    "m = np.zeros(img.shape[:2], dtype=np.uint8)\n",
    "m = cv2.circle(m, (cap_a,cap_b), cap_r, 255, -1)\n",
    "masked = cv2.bitwise_and(img, img, mask=m)\n",
    "\n",
    "cv2.imshow('masked', masked)\n",
    "cv2.waitKey(0)\n",
    "cv2.destroyAllWindows()"
   ]
  },
  {
   "cell_type": "code",
   "execution_count": 22,
   "metadata": {},
   "outputs": [],
   "source": [
    "# Decoration color segmentation\n",
    "grey = color_segmentation(masked, hsv, config.grey_lower_bound, config.grey_upper_bound)\n",
    "\n",
    "cv2.imshow('grey',grey)\n",
    "cv2.imwrite(f'{config.report_img_path}grey_decoration.jpg',grey)\n",
    "\n",
    "cv2.waitKey(0)\n",
    "cv2.destroyAllWindows()"
   ]
  },
  {
   "cell_type": "markdown",
   "metadata": {},
   "source": [
    "## 5. Decoration detection"
   ]
  },
  {
   "cell_type": "markdown",
   "metadata": {},
   "source": [
    "As for cap detection, decoration is found by first applying a $3\\times 3$ bilateral filter and then a Circle Hough Transform."
   ]
  },
  {
   "cell_type": "code",
   "execution_count": 13,
   "metadata": {},
   "outputs": [],
   "source": [
    "# Smooth image before HT\n",
    "decoration_smooth = smooth(grey, filter=config.decoration_filter)"
   ]
  },
  {
   "cell_type": "code",
   "execution_count": 15,
   "metadata": {},
   "outputs": [
    {
     "name": "stdout",
     "output_type": "stream",
     "text": [
      "Decoration center = (382,300)\n",
      "Decoration radius = 188px\n"
     ]
    }
   ],
   "source": [
    "# Decoration circle detecion\n",
    "maxRadius = cap_r\n",
    "\n",
    "decoration = single_detect_circles(decoration_smooth, config.decoration_minDist, config.decoration_param1, config.decoration_param2, config.decoration_minRadius, maxRadius, print_result=False, save_img_as='grey_decoration_CHT.jpg')\n",
    "\n",
    "decoration_a,decoration_b,decoration_r = decoration\n",
    "print(f'Decoration center = ({decoration_a},{decoration_b})')\n",
    "print(f'Decoration radius = {decoration_r}px')"
   ]
  },
  {
   "cell_type": "markdown",
   "metadata": {},
   "source": [
    "## 6. Compute off-set"
   ]
  },
  {
   "cell_type": "markdown",
   "metadata": {},
   "source": [
    "At the end, the decoration off-set is computed as the Euclidean distance between cap's center and decoration's center."
   ]
  },
  {
   "cell_type": "code",
   "execution_count": 112,
   "metadata": {},
   "outputs": [
    {
     "name": "stdout",
     "output_type": "stream",
     "text": [
      "Distance between cap and decoration centers = 14.14px\n"
     ]
    }
   ],
   "source": [
    "_ = compute_distance(cap, decoration)"
   ]
  },
  {
   "cell_type": "code",
   "execution_count": 18,
   "metadata": {},
   "outputs": [],
   "source": [
    "cimg = draw_circles(img, [cap, decoration], show=True)"
   ]
  }
 ],
 "metadata": {
  "kernelspec": {
   "display_name": "Python 3.10.4 64-bit",
   "language": "python",
   "name": "python3"
  },
  "language_info": {
   "codemirror_mode": {
    "name": "ipython",
    "version": 3
   },
   "file_extension": ".py",
   "mimetype": "text/x-python",
   "name": "python",
   "nbconvert_exporter": "python",
   "pygments_lexer": "ipython3",
   "version": "3.10.4"
  },
  "orig_nbformat": 4,
  "vscode": {
   "interpreter": {
    "hash": "5b0b338c22055c4f0730dd502858cd6e879fb176483496628d5e2d269d727b70"
   }
  }
 },
 "nbformat": 4,
 "nbformat_minor": 2
}
