{
 "cells": [
  {
   "cell_type": "markdown",
   "metadata": {},
   "source": [
    "# Project 1: Plastic cap liner inspection\n",
    "\n",
    "GOAL: develop a program to locate defects in the liner of a plastic cap.\n",
    "\n",
    "A sample of 16 grey scale images has been provided, containing both good and defective samples. The detailed description of the content of this notebook is reported in the homonymous section of the attached report."
   ]
  },
  {
   "cell_type": "code",
   "execution_count": 19,
   "metadata": {},
   "outputs": [
    {
     "name": "stdout",
     "output_type": "stream",
     "text": [
      "The autoreload extension is already loaded. To reload it, use:\n",
      "  %reload_ext autoreload\n"
     ]
    }
   ],
   "source": [
    "# Load necessary libraries\n",
    "import os\n",
    "import cv2\n",
    "import numpy as np\n",
    "import pandas as pd\n",
    "from matplotlib import pyplot as plt\n",
    "import time\n",
    "import operator\n",
    "\n",
    "from src.utils import *\n",
    "import src.config as config\n",
    "\n",
    "%matplotlib inline\n",
    "\n",
    "%load_ext autoreload\n",
    "%autoreload 2"
   ]
  },
  {
   "cell_type": "markdown",
   "metadata": {},
   "source": [
    "## 1. Read images"
   ]
  },
  {
   "cell_type": "markdown",
   "metadata": {},
   "source": [
    "Images are stored in a dictionary and a Dataframe, containing images classes and features, is created."
   ]
  },
  {
   "cell_type": "code",
   "execution_count": 20,
   "metadata": {},
   "outputs": [
    {
     "data": {
      "text/html": [
       "<div>\n",
       "<style scoped>\n",
       "    .dataframe tbody tr th:only-of-type {\n",
       "        vertical-align: middle;\n",
       "    }\n",
       "\n",
       "    .dataframe tbody tr th {\n",
       "        vertical-align: top;\n",
       "    }\n",
       "\n",
       "    .dataframe thead th {\n",
       "        text-align: right;\n",
       "    }\n",
       "</style>\n",
       "<table border=\"1\" class=\"dataframe\">\n",
       "  <thead>\n",
       "    <tr style=\"text-align: right;\">\n",
       "      <th></th>\n",
       "      <th>image</th>\n",
       "      <th>class</th>\n",
       "      <th>defect</th>\n",
       "    </tr>\n",
       "  </thead>\n",
       "  <tbody>\n",
       "    <tr>\n",
       "      <th>0</th>\n",
       "      <td>d_16.bmp</td>\n",
       "      <td>defective</td>\n",
       "      <td>-</td>\n",
       "    </tr>\n",
       "    <tr>\n",
       "      <th>1</th>\n",
       "      <td>d_17.bmp</td>\n",
       "      <td>defective</td>\n",
       "      <td>incomplete_liner</td>\n",
       "    </tr>\n",
       "    <tr>\n",
       "      <th>2</th>\n",
       "      <td>d_18.bmp</td>\n",
       "      <td>defective</td>\n",
       "      <td>incomplete_liner</td>\n",
       "    </tr>\n",
       "    <tr>\n",
       "      <th>3</th>\n",
       "      <td>d_19.bmp</td>\n",
       "      <td>defective</td>\n",
       "      <td>incomplete_liner</td>\n",
       "    </tr>\n",
       "    <tr>\n",
       "      <th>4</th>\n",
       "      <td>d_20.bmp</td>\n",
       "      <td>defective</td>\n",
       "      <td>incomplete_liner</td>\n",
       "    </tr>\n",
       "  </tbody>\n",
       "</table>\n",
       "</div>"
      ],
      "text/plain": [
       "      image      class            defect\n",
       "0  d_16.bmp  defective                 -\n",
       "1  d_17.bmp  defective  incomplete_liner\n",
       "2  d_18.bmp  defective  incomplete_liner\n",
       "3  d_19.bmp  defective  incomplete_liner\n",
       "4  d_20.bmp  defective  incomplete_liner"
      ]
     },
     "execution_count": 20,
     "metadata": {},
     "output_type": "execute_result"
    }
   ],
   "source": [
    "df = create_df(config.path)\n",
    "image_collection = read_img_gs(config.path)\n",
    "df.head()"
   ]
  },
  {
   "cell_type": "markdown",
   "metadata": {},
   "source": [
    "#### Select image to work on, es. 'd_16.bmp', or uncomment the following cell and process all images in batch."
   ]
  },
  {
   "cell_type": "markdown",
   "metadata": {},
   "source": [
    "Results are stored in the \"res\" folder, while data in df DataFrame."
   ]
  },
  {
   "cell_type": "code",
   "execution_count": 27,
   "metadata": {},
   "outputs": [
    {
     "name": "stdout",
     "output_type": "stream",
     "text": [
      "Processing d_16.bmp\n",
      "Processing d_17.bmp\n",
      "Processing d_18.bmp\n",
      "Processing d_19.bmp\n",
      "Processing d_20.bmp\n",
      "Processing d_21.bmp\n",
      "Processing d_22.bmp\n",
      "Processing d_23.bmp\n",
      "Processing d_24.bmp\n",
      "Processing d_31.bmp\n",
      "No liner detected in d_31.bmp\n",
      "Processing g_01.bmp\n",
      "Processing g_02.bmp\n",
      "Processing g_03.bmp\n",
      "Processing g_04.bmp\n",
      "Processing g_05.bmp\n",
      "Processing g_06.bmp\n",
      "Mean average brightness: 72.8\n",
      "Avg brightness std dev.: 0.83\n",
      "      image      class            defect   detected_defect  cap_a  cap_b  \\\n",
      "0  d_16.bmp  defective                 -                 -    386    292   \n",
      "1  d_17.bmp  defective  incomplete_liner  incomplete liner    386    286   \n",
      "2  d_18.bmp  defective  incomplete_liner  incomplete liner    384    288   \n",
      "3  d_19.bmp  defective  incomplete_liner  incomplete liner    382    288   \n",
      "4  d_20.bmp  defective  incomplete_liner  incomplete liner    384    290   \n",
      "\n",
      "   cap_r  avg_brightness                                              bbox  \\\n",
      "0    254            72.0                                                []   \n",
      "1    255            75.0   [[352, 110], [372, 95], [564, 351], [545, 365]]   \n",
      "2    255            74.0   [[412, 114], [440, 99], [571, 344], [543, 359]]   \n",
      "3    255            73.0  [[197, 333], [211, 314], [400, 456], [385, 475]]   \n",
      "4    254            73.0  [[280, 444], [556, 348], [565, 374], [289, 470]]   \n",
      "\n",
      "   proc_time  \n",
      "0   0.046321  \n",
      "1   0.047690  \n",
      "2   0.077907  \n",
      "3   0.094744  \n",
      "4   0.112264  \n"
     ]
    },
    {
     "data": {
      "image/png": "[encoded data removed]",
      "text/plain": [
       "<Figure size 432x288 with 1 Axes>"
      ]
     },
     "metadata": {
      "needs_background": "light"
     },
     "output_type": "display_data"
    }
   ],
   "source": [
    "df_processed = process_all(df, image_collection, 'mlht', print_plot=False)\n",
    "print(df_processed.head())\n",
    "\n",
    "v = np.array(df_processed['avg_brightness'][df_processed['defect']!='missing_liner'])\n",
    "config.avg_brightness = np.ceil(np.mean(v) + 3*np.std(v))\n",
    "\n",
    "avg_bri_vec = np.array(df_processed['avg_brightness'])\n",
    "\n",
    "fig = plt.figure()\n",
    "fig.suptitle('Average brightnes distribution')\n",
    "plt.boxplot(avg_bri_vec)\n",
    "plt.axhline(config.avg_brightness)\n",
    "plt.show()\n"
   ]
  },
  {
   "cell_type": "markdown",
   "metadata": {},
   "source": [
    "#### From here on this notebook works on a single image, for demo purposes."
   ]
  },
  {
   "cell_type": "markdown",
   "metadata": {},
   "source": [
    "Select the image under analysis through the variable \"testing_image\""
   ]
  },
  {
   "cell_type": "code",
   "execution_count": 38,
   "metadata": {},
   "outputs": [],
   "source": [
    "testing_image = 'd_17.bmp'\n",
    "img = image_collection[testing_image].copy()\n",
    "# cv2.imwrite(f'{config.report_img_path}d_31.jpg', img) per report\n",
    "cv2.imshow('img',img)\n",
    "cv2.waitKey(0)\n",
    "cv2.destroyAllWindows()"
   ]
  },
  {
   "cell_type": "markdown",
   "metadata": {},
   "source": [
    "## 2. Cap detection"
   ]
  },
  {
   "cell_type": "markdown",
   "metadata": {},
   "source": [
    "In this section cap circumference is detected through Circle Hough Transform.\n",
    "\n",
    "Configuratoin parameters have been determined by experiments and qualitative assesments, because no ground truth was provided."
   ]
  },
  {
   "cell_type": "markdown",
   "metadata": {},
   "source": [
    "Circles detection is accomplished throug OpenCV HoughCircles function. Its argument are:\n",
    "- image: 8-bit, single channel image;\n",
    "- method: defines the method to detect circles in images. Currently, the only implemented method is cv2.HOUGH_GRADIENT, which corresponds to the Yuen et al. paper.\n",
    "- dp: this parameter is the inverse ratio of the accumulator resolution to the image resolution (see Yuen et al. for more details). Essentially, the larger the dp gets, the smaller the accumulator array gets.\n",
    "- minDist: Minimum distance between the center (x, y) coordinates of detected circles. If the minDist is too small, multiple circles in the same neighborhood as the original may be (falsely) detected. If the minDist is too large, then some circles may not be detected at all.\n",
    "- param1: First method-specific parameter. In case of HOUGH_GRADIENT , it is the higher threshold of the two passed to the Canny edge detector (the lower one is twice smaller).\n",
    "- param2: Accumulator threshold value for the cv2.HOUGH_GRADIENT method. The smaller the threshold is, the more circles will be detected (including false circles).\n",
    "- minRadius: Minimum size of the radius (in pixels).\n",
    "- maxRadius: Maximum size of the radius (in pixels)."
   ]
  },
  {
   "cell_type": "code",
   "execution_count": 55,
   "metadata": {},
   "outputs": [
    {
     "name": "stdout",
     "output_type": "stream",
     "text": [
      "Cap center = (386,286)\n",
      "Cap radius = 255px\n"
     ]
    }
   ],
   "source": [
    "# Cap detection\n",
    "cap = single_detect_circles(img, config.cap_minDist, config.cap_param1, config.cap_param2, config.cap_minRadius, config.cap_maxRadius, print_result=False, show=True)\n",
    "cap_a, cap_b ,cap_r = cap\n",
    "\n",
    "print(f'Cap center = ({cap_a},{cap_b})')\n",
    "print(f'Cap radius = {cap_r}px')"
   ]
  },
  {
   "cell_type": "markdown",
   "metadata": {},
   "source": [
    "## 3. Missing liner detection"
   ]
  },
  {
   "cell_type": "markdown",
   "metadata": {},
   "source": [
    "In order to segregate missing liner caps from the rest, one key indicator is the average brightness of the cap itself: indeed, being the cap white and the liner grey, caps without the liner appear brighter in terms of gray levels.\n",
    "\n",
    "The threshold that allows to classify missing liner caps has been determined statiscally by looking at the whole provided set, after removing \"missing_liner\" samples, in order to get the $\\mu$ and $\\sigma$ of the remaining set. This step has to be imagined as happening before the processing pipeline, and its result is then used to classify images in the on-line phase.\n",
    "\n",
    "It is worth to notice that here, average brightness refers to the average brightness of the cap and **not of the image**. Indeed it is computed after masking the image by removing everything outside it. \n",
    "\n",
    "The chosen threshold is the value at $3\\sigma$ distance from the sample mean $\\mu$, and it is equal to 76."
   ]
  },
  {
   "cell_type": "code",
   "execution_count": 41,
   "metadata": {},
   "outputs": [
    {
     "data": {
      "text/plain": [
       "<matplotlib.image.AxesImage at 0x17cb9fabb20>"
      ]
     },
     "execution_count": 41,
     "metadata": {},
     "output_type": "execute_result"
    },
    {
     "data": {
      "image/png": "[encoded data removed]",
      "text/plain": [
       "<Figure size 432x288 with 1 Axes>"
      ]
     },
     "metadata": {
      "needs_background": "light"
     },
     "output_type": "display_data"
    },
    {
     "data": {
      "image/png": "[encoded data removed]",
      "text/plain": [
       "<Figure size 432x288 with 1 Axes>"
      ]
     },
     "metadata": {
      "needs_background": "light"
     },
     "output_type": "display_data"
    }
   ],
   "source": [
    "# Generate and use a mask to mask what's outside the cap\n",
    "mask = np.zeros(img.shape, dtype=np.uint8)\n",
    "mask = cv2.circle(mask, (cap_a, cap_b), cap_r, 255, -1)\n",
    "\n",
    "plt.close()\n",
    "plt.figure()\n",
    "plt.imshow(mask,cmap='gray',vmin=0,vmax=255)\n",
    "\n",
    "plt.figure()\n",
    "plt.imshow(img, cmap='gray',vmin=0,vmax=255)"
   ]
  },
  {
   "cell_type": "code",
   "execution_count": 42,
   "metadata": {},
   "outputs": [
    {
     "name": "stdout",
     "output_type": "stream",
     "text": [
      "Average brightness = 75.0\n"
     ]
    },
    {
     "data": {
      "image/png": "[encoded data removed]",
      "text/plain": [
       "<Figure size 432x288 with 1 Axes>"
      ]
     },
     "metadata": {
      "needs_background": "light"
     },
     "output_type": "display_data"
    }
   ],
   "source": [
    "# Computing and plotting masked image average brightness\n",
    "\n",
    "avg_bri = compute_avg_brightness(img, mask)\n",
    "print(f'Average brightness = {np.round(avg_bri,0)}')\n",
    "hist = print_hist(img, mask, avg_bri)"
   ]
  },
  {
   "cell_type": "markdown",
   "metadata": {},
   "source": [
    "## 4. Missing liner images classification"
   ]
  },
  {
   "cell_type": "code",
   "execution_count": 43,
   "metadata": {},
   "outputs": [],
   "source": [
    "# Classification based on threshold on average brightness.\n",
    "\n",
    "if avg_bri > config.avg_brightness:\n",
    "    has_liner = False\n",
    "else:\n",
    "    has_liner = True"
   ]
  },
  {
   "cell_type": "markdown",
   "metadata": {},
   "source": [
    "## 5. Liner detection"
   ]
  },
  {
   "cell_type": "markdown",
   "metadata": {},
   "source": [
    "As previously stated for cap detection, in this section liner circumference is detected through Circle Hough Transform.\n",
    "\n",
    "Again, configuratoin parameters have been determined by experiments and qualitative assesments, because no ground truth was provided.\n",
    "\n",
    "Steps that follow are applied only to images **with** liner."
   ]
  },
  {
   "cell_type": "code",
   "execution_count": 54,
   "metadata": {},
   "outputs": [
    {
     "name": "stdout",
     "output_type": "stream",
     "text": [
      "Liner center = (388,284)\n",
      "Liner radius = 185px\n"
     ]
    }
   ],
   "source": [
    "if has_liner:\n",
    "\n",
    "    ## Liner detection\n",
    "    liner = single_detect_circles(img, config.liner_minDist, config.liner_param1, config.liner_param2, config.liner_minRadius, config.liner_maxRadius, print_result=False, show=True, save_img_as='liner_circle.jpg')\n",
    "\n",
    "    liner_a, liner_b ,liner_r = liner\n",
    "    print(f'Liner center = ({liner_a},{liner_b})')\n",
    "    print(f'Liner radius = {liner_r}px')\n",
    "else:\n",
    "    raise SystemExit(\"No liner found! Stopping here...\")"
   ]
  },
  {
   "cell_type": "markdown",
   "metadata": {},
   "source": [
    "## 6. Defect detection"
   ]
  },
  {
   "cell_type": "markdown",
   "metadata": {},
   "source": [
    "Missing liner defects are discovered by running a Canny edge detector in the liner region and counting the number of non zero pixels. In other words, defects are here treated as edges that \"shouldn't be there\"."
   ]
  },
  {
   "cell_type": "code",
   "execution_count": 46,
   "metadata": {},
   "outputs": [],
   "source": [
    "edged_full, edge_only = check_defect_circular_region(img, config.canny_lower, config.canny_upper, [liner_a, liner_b, liner_r], show=True)"
   ]
  },
  {
   "cell_type": "code",
   "execution_count": 14,
   "metadata": {},
   "outputs": [
    {
     "name": "stdout",
     "output_type": "stream",
     "text": [
      "99705\n",
      "True\n"
     ]
    }
   ],
   "source": [
    "# Check if there are edges\n",
    "defect = False\n",
    "whites = np.sum(edge_only.flatten())\n",
    "print(whites)\n",
    "if whites > config.defect_t:\n",
    "    defect = True\n",
    "print(defect)"
   ]
  },
  {
   "cell_type": "markdown",
   "metadata": {},
   "source": [
    "## 7. Defect bounding box"
   ]
  },
  {
   "cell_type": "markdown",
   "metadata": {},
   "source": [
    "At the end, a bounding box is drawn around the defect's edge. The following cell implements three different methods:\n",
    "- baseline: uses Canny's output of the previous step to derive defect's contour and draw the minimum enclosing rectangle around it;\n",
    "- slht: \"single line Hough transform\" exploits Hough transform to detect lines that corresponds to the defect, chooses the longest one and uses it to draw the minimum enclosing rectangle;\n",
    "- mlht: \"multiple lines Hough transform\" exploits Hough transform to detect lines that corresponds to the defect and uses all of them to draw the minimum enclosing rectangle.\n",
    "\n",
    "The latter method, by relying on multiple lines, draws slightly larger bound boxes.\n",
    "\n",
    "The assumption the latter two methods is that defects are always stright (more or less), due to manufacturing reasons.\n",
    "However, MLHT could in principle work also for non straight defects, by approximating them through a sequence of small lines."
   ]
  },
  {
   "cell_type": "code",
   "execution_count": 17,
   "metadata": {},
   "outputs": [],
   "source": [
    "# Defect highlighting\n",
    "defect_hl_method = 'mlht'\n",
    "\n",
    "# BBOX\n",
    "if defect:\n",
    "    ## Common\n",
    "    result = cv2.cvtColor(img.copy(), cv2.COLOR_GRAY2BGR)\n",
    "    if defect_hl_method == 'baseline':\n",
    "\n",
    "        # baseline\n",
    "        cnt = baseline_contours_finder(edge_only)   \n",
    "\n",
    "    elif defect_hl_method == 'slht':\n",
    "\n",
    "        # Hough Transform single line detection\n",
    "        cnt, lines_img = slht_contours(edged_full)\n",
    "\n",
    "        cv2.imshow('Detected lines', lines_img)\n",
    "        # cv2.imwrite(f'{config.report_img_path}LHT_line.jpg', lines_img)\n",
    "\n",
    "        cv2.waitKey(0)\n",
    "\n",
    "    elif defect_hl_method == 'mlht':\n",
    "\n",
    "        # Hough Transform multiple lines detection\n",
    "        cnt, lines_img = mlht_contours(edged_full)\n",
    "\n",
    "        cv2.imshow('Detected lines', lines_img)\n",
    "        # cv2.imwrite(f'{config.report_img_path}LHT_lines.jpg', lines_img)\n",
    "        cv2.waitKey(0)\n",
    "\n",
    "\n",
    "    # common\n",
    "    result, _ = draw_rect(result, cnt)\n",
    "\n",
    "    cv2.imshow(f\"{defect_hl_method} edge finder\", result)\n",
    "    cv2.imwrite(f'{config.report_img_path}p1_final.jpg', result)\n",
    "    cv2.waitKey(0)\n",
    "    cv2.destroyAllWindows()"
   ]
  }
 ],
 "metadata": {
  "kernelspec": {
   "display_name": "Python 3.10.4 64-bit",
   "language": "python",
   "name": "python3"
  },
  "language_info": {
   "codemirror_mode": {
    "name": "ipython",
    "version": 3
   },
   "file_extension": ".py",
   "mimetype": "text/x-python",
   "name": "python",
   "nbconvert_exporter": "python",
   "pygments_lexer": "ipython3",
   "version": "3.10.4"
  },
  "orig_nbformat": 4,
  "vscode": {
   "interpreter": {
    "hash": "5b0b338c22055c4f0730dd502858cd6e879fb176483496628d5e2d269d727b70"
   }
  }
 },
 "nbformat": 4,
 "nbformat_minor": 2
}
